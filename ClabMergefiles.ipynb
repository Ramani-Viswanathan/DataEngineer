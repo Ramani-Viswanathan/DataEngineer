{
  "nbformat": 4,
  "nbformat_minor": 0,
  "metadata": {
    "colab": {
      "provenance": [],
      "mount_file_id": "1ISHZWnMrCZi-mJi10c9iOEprRzOxVyfq",
      "authorship_tag": "ABX9TyMA/fl9MLF/FNnMNfIBGmZv",
      "include_colab_link": true
    },
    "kernelspec": {
      "name": "python3",
      "display_name": "Python 3"
    },
    "language_info": {
      "name": "python"
    }
  },
  "cells": [
    {
      "cell_type": "markdown",
      "metadata": {
        "id": "view-in-github",
        "colab_type": "text"
      },
      "source": [
        "<a href=\"https://colab.research.google.com/github/Ramani-Viswanathan/DataEngineer/blob/Simple/ClabMergefiles.ipynb\" target=\"_parent\"><img src=\"https://colab.research.google.com/assets/colab-badge.svg\" alt=\"Open In Colab\"/></a>"
      ]
    },
    {
      "cell_type": "markdown",
      "source": [
        "PROJECT DETAILS :\n",
        "'''\n",
        "\n",
        "PySpark February 2024 Batch – Assignment 1\n",
        "\n",
        "Project work on pandas:\n",
        "Id\tBatch start date\tBatch end date\tEmail\tName\tEmployee id\n",
        "\n",
        "Create data directory and create 3 excel files with the above format\n",
        "Put some dummy data in each file\n",
        "Write pandas code (.py) to read each excel files and combine the data from these 3 input file.\n",
        "Select only ID, email, Name and generate an output excel file with the combined data\n",
        "\n",
        "\n",
        "'''"
      ],
      "metadata": {
        "id": "qpks4uMhXKth"
      }
    },
    {
      "cell_type": "code",
      "source": [],
      "metadata": {
        "id": "2PRoXnDsY4JQ"
      },
      "execution_count": null,
      "outputs": []
    },
    {
      "cell_type": "code",
      "source": [
        "# Pip Install panda completed\n",
        "import pandas as pd\n",
        "\n",
        "#Read data from File stored in 'Google Drive / data' directory\n",
        "\n",
        "df1 = pd.read_excel(\"/content/drive/My Drive/data/training_batch_1.xlsx\")\n",
        "df2 = pd.read_excel(\"/content/drive/My Drive/data/training_batch_2.xlsx\")\n",
        "df3 = pd.read_excel(\"/content/drive/My Drive/data/training_batch_3.xlsx\")\n",
        "\n",
        "#select only required columns\n",
        "selected_col = [\"id\",\"email\",\"name\"]\n",
        "\n",
        "# add the selected column in data frame\n",
        "df_selected_columns1 = df1[selected_col]\n",
        "df_selected_columns2 = df2[selected_col]\n",
        "df_selected_columns3 = df3[selected_col]\n",
        "\n",
        "#Append all 3 daata frame into 1 data frame\n",
        "df_append = pd.concat([df_selected_columns1, df_selected_columns2, df_selected_columns3],ignore_index=True)\n",
        "\n",
        "#write to excel file, create a file in google drive\n",
        "df_append.to_excel(\"/content/drive/My Drive/data/training_batch_consolidated.xlsx\",sheet_name='Consolidated')\n",
        "\n",
        "#print the appended output for validation\n",
        "print (df_append)"
      ],
      "metadata": {
        "colab": {
          "base_uri": "https://localhost:8080/"
        },
        "id": "Q0SqKGUvU8HX",
        "outputId": "75ed5b44-b5ae-4364-eaf8-2f8bd9112e51"
      },
      "execution_count": 29,
      "outputs": [
        {
          "output_type": "stream",
          "name": "stdout",
          "text": [
            "    id                 email      name\n",
            "0    1     aswin@virtusa.com     Aswin\n",
            "1    2       joe@virtusa.com       Joe\n",
            "2    3      devi@virtusa.com      Devi\n",
            "3    4       sai@virtusa.com       Sai\n",
            "4    5   schultz@virtusa.com   Schultz\n",
            "5    1  jennifer@virtusa.com  Jennifer\n",
            "6    2    mathew@virtusa.com    Mathew\n",
            "7    3     kumar@virtusa.com     Kumar\n",
            "8    4     varun@virtusa.com     Varun\n",
            "9    5   mohamud@virtusa.com   Mohamud\n",
            "10   1   gayatri@virtusa.com   Gayatri\n",
            "11   2    sakeit@virtusa.com    Sakeit\n",
            "12   3    malini@virtusa.com    Malini\n",
            "13   4      silk@virtusa.com      Silk\n",
            "14   5    josept@virtusa.com    Josept\n"
          ]
        }
      ]
    }
  ]
}